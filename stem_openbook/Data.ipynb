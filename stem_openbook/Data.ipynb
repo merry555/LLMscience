{
 "cells": [
  {
   "cell_type": "code",
   "execution_count": 4,
   "id": "07c1dead",
   "metadata": {},
   "outputs": [],
   "source": [
    "from datasets import load_from_disk\n",
    "from sentence_transformers import SentenceTransformer\n",
    "from transformers import AutoTokenizer\n",
    "import pandas as pd\n",
    "import os\n",
    "from tqdm import tqdm"
   ]
  },
  {
   "cell_type": "code",
   "execution_count": 2,
   "id": "d75733dc",
   "metadata": {},
   "outputs": [],
   "source": [
    "os.environ[\"CUDA_VISIBLE_DEVICES\"]=\"1\""
   ]
  },
  {
   "cell_type": "code",
   "execution_count": 2,
   "id": "1279ffd9",
   "metadata": {},
   "outputs": [],
   "source": [
    "dataset_filtered = load_from_disk(\"/home/jisukim/LLMscience/openbook/dataset/stem\")"
   ]
  },
  {
   "cell_type": "code",
   "execution_count": 3,
   "id": "bcddf8fe",
   "metadata": {},
   "outputs": [
    {
     "data": {
      "text/plain": [
       "Dataset({\n",
       "    features: ['title', 'section', 'text'],\n",
       "    num_rows: 2101279\n",
       "})"
      ]
     },
     "execution_count": 3,
     "metadata": {},
     "output_type": "execute_result"
    }
   ],
   "source": [
    "dataset_filtered['text'][0]"
   ]
  },
  {
   "cell_type": "code",
   "execution_count": 24,
   "id": "0858d5e0",
   "metadata": {},
   "outputs": [],
   "source": [
    "df = pd.DataFrame()"
   ]
  },
  {
   "cell_type": "code",
   "execution_count": 25,
   "id": "46a6058b",
   "metadata": {},
   "outputs": [],
   "source": [
    "df['title'] = dataset_filtered['title']"
   ]
  },
  {
   "cell_type": "code",
   "execution_count": 27,
   "id": "52f008b1",
   "metadata": {},
   "outputs": [],
   "source": [
    "df['section'] = dataset_filtered['section']"
   ]
  },
  {
   "cell_type": "code",
   "execution_count": 28,
   "id": "7e33dde7",
   "metadata": {},
   "outputs": [],
   "source": [
    "df['text'] = dataset_filtered['text']"
   ]
  },
  {
   "cell_type": "code",
   "execution_count": 30,
   "id": "cd0b50f8",
   "metadata": {},
   "outputs": [],
   "source": [
    "df.to_csv('/home/jisukim/LLMscience/openbook/dataset/stem_wiki.csv', index=True)"
   ]
  },
  {
   "cell_type": "code",
   "execution_count": 3,
   "id": "e51afe48",
   "metadata": {},
   "outputs": [],
   "source": [
    "df = pd.read_csv('/home/jisukim/LLMscience/openbook/dataset/stem_wiki.csv')"
   ]
  },
  {
   "cell_type": "code",
   "execution_count": null,
   "id": "898d4e58",
   "metadata": {},
   "outputs": [],
   "source": [
    "texts = []\n",
    "\n",
    "for i in tqdm(range(len(df))):\n",
    "    tot_text = \"[CLS]\" + str(df.iloc[i]['title']) + \"[SEP]\" + str(df.iloc[i]['section']) + \"[SEP]\" + str(df.iloc[i]['text'])\n",
    "    texts.append(tot_text)"
   ]
  },
  {
   "cell_type": "code",
   "execution_count": null,
   "id": "08b2278e",
   "metadata": {},
   "outputs": [],
   "source": [
    "df['ctx'] = texts\n",
    "df['index'] = df.index"
   ]
  },
  {
   "cell_type": "code",
   "execution_count": null,
   "id": "f86e67c8",
   "metadata": {},
   "outputs": [],
   "source": [
    "df[['index', 'ctx']].to_parquet('/home/jisukim/LLMscience/openbook/dataset/stem_wiki_only_ctx.parquet')"
   ]
  },
  {
   "cell_type": "markdown",
   "id": "4394203e",
   "metadata": {},
   "source": [
    "### Maxlength 체크"
   ]
  },
  {
   "cell_type": "code",
   "execution_count": 5,
   "id": "98530017",
   "metadata": {},
   "outputs": [],
   "source": [
    "tokenizer = AutoTokenizer.from_pretrained('sentence-transformers/all-MiniLM-L12-v2')"
   ]
  },
  {
   "cell_type": "code",
   "execution_count": 7,
   "id": "e3d687b7",
   "metadata": {},
   "outputs": [
    {
     "name": "stderr",
     "output_type": "stream",
     "text": [
      "  0%|                                                                                                                                                                     | 0/2101279 [00:00<?, ?it/s]Token indices sequence length is longer than the specified maximum sequence length for this model (592 > 512). Running this sequence through the model will result in indexing errors\n",
      "100%|█████████████████████████████████████████████████████████████████████████████████████████████████████████████████████████████████████████████████████| 2101279/2101279 [33:15<00:00, 1052.86it/s]\n"
     ]
    }
   ],
   "source": [
    "text_length = []\n",
    "\n",
    "for i in tqdm(range(len(df))):\n",
    "    text_length.append(tokenizer.tokenize(\"[CLS]\" + str(df.iloc[i]['title']) + \"[SEP]\" + str(df.iloc[i]['section']) + \"[SEP]\" + str(df.iloc[i]['text'])))"
   ]
  },
  {
   "cell_type": "code",
   "execution_count": 10,
   "id": "2a14c4d1",
   "metadata": {},
   "outputs": [
    {
     "name": "stderr",
     "output_type": "stream",
     "text": [
      "100%|██████████████████████████████████████████████████████████████████████████████████████████████████████████████████████████████████████████████████| 2101279/2101279 [00:01<00:00, 1826397.76it/s]\n"
     ]
    }
   ],
   "source": [
    "txt_len = []\n",
    "\n",
    "for i in tqdm(range(len(text_length))):\n",
    "    txt_len.append(len(text_length[i]))"
   ]
  },
  {
   "cell_type": "code",
   "execution_count": 17,
   "id": "a20226fc",
   "metadata": {},
   "outputs": [],
   "source": [
    "import numpy as np"
   ]
  },
  {
   "cell_type": "code",
   "execution_count": 18,
   "id": "39334524",
   "metadata": {},
   "outputs": [],
   "source": [
    "q1 = np.percentile(txt_len, 25)  # 1사분위수\n",
    "median = np.percentile(txt_len, 50)  # 중앙값 (2사분위수)\n",
    "q3 = np.percentile(txt_len, 75)"
   ]
  },
  {
   "cell_type": "code",
   "execution_count": 30,
   "id": "0be77b19",
   "metadata": {},
   "outputs": [],
   "source": [
    "q4 = np.percentile(txt_len, 95)"
   ]
  }
 ],
 "metadata": {
  "kernelspec": {
   "display_name": "llmscience",
   "language": "python",
   "name": "llmscience"
  },
  "language_info": {
   "codemirror_mode": {
    "name": "ipython",
    "version": 3
   },
   "file_extension": ".py",
   "mimetype": "text/x-python",
   "name": "python",
   "nbconvert_exporter": "python",
   "pygments_lexer": "ipython3",
   "version": "3.8.16"
  }
 },
 "nbformat": 4,
 "nbformat_minor": 5
}
